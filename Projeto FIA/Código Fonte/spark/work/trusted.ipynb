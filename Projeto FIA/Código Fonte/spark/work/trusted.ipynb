{
 "cells": [
  {
   "cell_type": "markdown",
   "id": "e7d8b0bf-a6ba-46e4-9a50-cd65a48e0ad5",
   "metadata": {},
   "source": [
    "## CRIANDO CONEXÃO"
   ]
  },
  {
   "cell_type": "code",
   "execution_count": 1,
   "id": "3bfb86b5-e2c2-4fd5-96aa-1b967acdb05e",
   "metadata": {},
   "outputs": [],
   "source": [
    "from pyspark.sql import SparkSession\n",
    "from pyspark.sql.types import StructType, StructField, StringType, IntegerType\n",
    "spark = (\n",
    "    SparkSession.builder\n",
    "    .appName(\"Projeto2025\")\n",
    "    .getOrCreate()\n",
    ")"
   ]
  },
  {
   "cell_type": "code",
   "execution_count": 2,
   "id": "f8937992-7ce2-4466-8fe0-6d1a3280443a",
   "metadata": {},
   "outputs": [
    {
     "data": {
      "text/html": [
       "\n",
       "            <div>\n",
       "                <p><b>SparkSession - in-memory</b></p>\n",
       "                \n",
       "        <div>\n",
       "            <p><b>SparkContext</b></p>\n",
       "\n",
       "            <p><a href=\"http://spark-master:4040\">Spark UI</a></p>\n",
       "\n",
       "            <dl>\n",
       "              <dt>Version</dt>\n",
       "                <dd><code>v3.3.1</code></dd>\n",
       "              <dt>Master</dt>\n",
       "                <dd><code>local[*]</code></dd>\n",
       "              <dt>AppName</dt>\n",
       "                <dd><code>Projeto2025</code></dd>\n",
       "            </dl>\n",
       "        </div>\n",
       "        \n",
       "            </div>\n",
       "        "
      ],
      "text/plain": [
       "<pyspark.sql.session.SparkSession at 0x7f08fc9203d0>"
      ]
     },
     "execution_count": 2,
     "metadata": {},
     "output_type": "execute_result"
    }
   ],
   "source": [
    "spark"
   ]
  },
  {
   "cell_type": "code",
   "execution_count": 23,
   "id": "db76d15e-3fea-4e00-823d-470f2ff447ab",
   "metadata": {},
   "outputs": [
    {
     "name": "stdout",
     "output_type": "stream",
     "text": [
      "+-----+-----+\n",
      "| Nome|Idade|\n",
      "+-----+-----+\n",
      "|Maria|   25|\n",
      "| João|   30|\n",
      "+-----+-----+\n",
      "\n"
     ]
    }
   ],
   "source": [
    "from pyspark.sql import SparkSession\n",
    "\n",
    "# Configurando o Spark para se conectar ao MinIO\n",
    "spark = (\n",
    "    SparkSession.builder\n",
    "    .appName(\"Projeto2025\")\n",
    "    .config(\"spark.hadoop.fs.s3a.endpoint\", \"http://localhost:9050\") \n",
    "    .config(\"spark.hadoop.fs.s3a.access.key\", \"datalake\")\n",
    "    .config(\"spark.hadoop.fs.s3a.secret.key\", \"datalake\")\n",
    "    .config(\"spark.hadoop.fs.s3a.path.style.access\", \"true\") \n",
    "    .config(\"spark.hadoop.fs.s3a.impl\", \"org.apache.hadoop.fs.s3a.S3AFileSystem\")\n",
    "    .getOrCreate()\n",
    ")\n",
    "\n",
    "# Exemplo de DataFrame do Spark e gravando em MinIO\n",
    "data = [(\"João\", 30), (\"Maria\", 25)]\n",
    "columns = [\"Nome\", \"Idade\"]\n",
    "df = spark.createDataFrame(data, columns)\n",
    "\n",
    "# Salvando em MinIO como um arquivo Parquet\n",
    "df.write.format(\"parquet\").mode(\"overwrite\").save(\"s3a://trusted/teste/data.parquet\")\n",
    "\n",
    "# Lendo o mesmo arquivo de volta\n",
    "df2 = spark.read.format(\"parquet\").load(\"s3a://trusted/teste/data.parquet\")\n",
    "df2.show()"
   ]
  },
  {
   "cell_type": "code",
   "execution_count": null,
   "id": "6be653fe-4b7c-4909-a365-ffbeb96320f8",
   "metadata": {},
   "outputs": [],
   "source": []
  }
 ],
 "metadata": {
  "kernelspec": {
   "display_name": "Python 3 (ipykernel)",
   "language": "python",
   "name": "python3"
  },
  "language_info": {
   "codemirror_mode": {
    "name": "ipython",
    "version": 3
   },
   "file_extension": ".py",
   "mimetype": "text/x-python",
   "name": "python",
   "nbconvert_exporter": "python",
   "pygments_lexer": "ipython3",
   "version": "3.10.8"
  }
 },
 "nbformat": 4,
 "nbformat_minor": 5
}
